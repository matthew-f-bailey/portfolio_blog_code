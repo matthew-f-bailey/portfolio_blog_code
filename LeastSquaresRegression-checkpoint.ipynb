{
 "cells": [
  {
   "cell_type": "markdown",
   "id": "0795d56d",
   "metadata": {},
   "source": [
    "# Building and plotting a Least-Squares Regression Line by hand"
   ]
  },
  {
   "cell_type": "markdown",
   "id": "e31a8b19",
   "metadata": {},
   "source": [
    "### Import our needed modules"
   ]
  },
  {
   "cell_type": "code",
   "execution_count": 1,
   "id": "cc14d1dd",
   "metadata": {},
   "outputs": [],
   "source": [
    "from sklearn import datasets\n",
    "import pandas as pd\n",
    "import matplotlib as plt\n",
    "import numpy as np\n",
    "import math, scipy"
   ]
  },
  {
   "cell_type": "markdown",
   "id": "f9c6932d",
   "metadata": {},
   "source": [
    "### For all the excercises in this notebook, we will use the popular Iris dataset. \n",
    "Lets load that in now."
   ]
  },
  {
   "cell_type": "code",
   "execution_count": 2,
   "id": "7826ca32",
   "metadata": {},
   "outputs": [
    {
     "data": {
      "text/html": [
       "<div>\n",
       "<style scoped>\n",
       "    .dataframe tbody tr th:only-of-type {\n",
       "        vertical-align: middle;\n",
       "    }\n",
       "\n",
       "    .dataframe tbody tr th {\n",
       "        vertical-align: top;\n",
       "    }\n",
       "\n",
       "    .dataframe thead th {\n",
       "        text-align: right;\n",
       "    }\n",
       "</style>\n",
       "<table border=\"1\" class=\"dataframe\">\n",
       "  <thead>\n",
       "    <tr style=\"text-align: right;\">\n",
       "      <th></th>\n",
       "      <th>s_length</th>\n",
       "      <th>s_width</th>\n",
       "      <th>p_length</th>\n",
       "      <th>p_width</th>\n",
       "    </tr>\n",
       "  </thead>\n",
       "  <tbody>\n",
       "    <tr>\n",
       "      <th>0</th>\n",
       "      <td>5.1</td>\n",
       "      <td>3.5</td>\n",
       "      <td>1.4</td>\n",
       "      <td>0.2</td>\n",
       "    </tr>\n",
       "    <tr>\n",
       "      <th>1</th>\n",
       "      <td>4.9</td>\n",
       "      <td>3.0</td>\n",
       "      <td>1.4</td>\n",
       "      <td>0.2</td>\n",
       "    </tr>\n",
       "    <tr>\n",
       "      <th>2</th>\n",
       "      <td>4.7</td>\n",
       "      <td>3.2</td>\n",
       "      <td>1.3</td>\n",
       "      <td>0.2</td>\n",
       "    </tr>\n",
       "    <tr>\n",
       "      <th>3</th>\n",
       "      <td>4.6</td>\n",
       "      <td>3.1</td>\n",
       "      <td>1.5</td>\n",
       "      <td>0.2</td>\n",
       "    </tr>\n",
       "    <tr>\n",
       "      <th>4</th>\n",
       "      <td>5.0</td>\n",
       "      <td>3.6</td>\n",
       "      <td>1.4</td>\n",
       "      <td>0.2</td>\n",
       "    </tr>\n",
       "  </tbody>\n",
       "</table>\n",
       "</div>"
      ],
      "text/plain": [
       "   s_length  s_width  p_length  p_width\n",
       "0       5.1      3.5       1.4      0.2\n",
       "1       4.9      3.0       1.4      0.2\n",
       "2       4.7      3.2       1.3      0.2\n",
       "3       4.6      3.1       1.5      0.2\n",
       "4       5.0      3.6       1.4      0.2"
      ]
     },
     "execution_count": 2,
     "metadata": {},
     "output_type": "execute_result"
    }
   ],
   "source": [
    "iris = datasets.load_iris()\n",
    "df = pd.DataFrame(iris.data, columns=[\"s_length\", \"s_width\", \"p_length\", \"p_width\"])\n",
    "df.head()"
   ]
  },
  {
   "cell_type": "code",
   "execution_count": 3,
   "id": "af2192e8",
   "metadata": {},
   "outputs": [
    {
     "data": {
      "text/plain": [
       "<AxesSubplot:title={'center':'Petal Length v Petal Width'}, xlabel='p_length', ylabel='p_width'>"
      ]
     },
     "execution_count": 3,
     "metadata": {},
     "output_type": "execute_result"
    },
    {
     "data": {
      "image/png": "[encoded data removed]",
      "text/plain": [
       "<Figure size 432x288 with 1 Axes>"
      ]
     },
     "metadata": {
      "needs_background": "light"
     },
     "output_type": "display_data"
    }
   ],
   "source": [
    "df.plot(x=\"p_length\", y=\"p_width\", kind=\"scatter\",\n",
    "       title=\"Petal Length v Petal Width\")"
   ]
  },
  {
   "cell_type": "markdown",
   "id": "654e3e3c",
   "metadata": {},
   "source": [
    "We can definitely see a relationship here with these two varibales, so this should serve us well as some test data when looking at correlation and regression."
   ]
  },
  {
   "cell_type": "markdown",
   "id": "b797203e",
   "metadata": {},
   "source": [
    "#### Since we are not trying to predict anything about the classes for now, we will just use the features provided to explore ideas"
   ]
  },
  {
   "cell_type": "markdown",
   "id": "0c4e3f7b",
   "metadata": {},
   "source": [
    "# Correlation\n",
    "$\\Large{r = \\frac{1}{n-1} \\sum_{i=1}^{n}(\\frac{x_i - \\overline{x} }{s_x})(\\frac{y_i - \\overline{y}}{s_y})}$"
   ]
  },
  {
   "cell_type": "code",
   "execution_count": 4,
   "id": "2e3ca0d3",
   "metadata": {},
   "outputs": [],
   "source": [
    "mean = lambda nums: sum(nums)/len(nums)\n",
    "dev = lambda nums: math.sqrt(sum([(n-mean(nums))**2 for n in nums])/(len(nums)-1))\n",
    "def correlation(x_data: list, y_data: list) -> float:\n",
    "       \n",
    "    # first get means\n",
    "    xbar = mean(x_data)\n",
    "    ybar = mean(y_data)\n",
    "    \n",
    "    # and deviations\n",
    "    xdev = dev(x_data)\n",
    "    ydev = dev(y_data)\n",
    "\n",
    "    # create a new list of the points subracted from means over devs\n",
    "    pairs = list(zip(x_data, y_data))\n",
    "    sum_these = [((x-xbar)/xdev)*((y-ybar)/ydev) for x,y in pairs]\n",
    "    \n",
    "    return sum(sum_these)/(len(x_data)-1)"
   ]
  },
  {
   "cell_type": "markdown",
   "id": "8b6c3b91",
   "metadata": {},
   "source": [
    "##### Lets quickly verify this function agaisnt scipy"
   ]
  },
  {
   "cell_type": "code",
   "execution_count": 5,
   "id": "b98759ba",
   "metadata": {},
   "outputs": [
    {
     "name": "stdout",
     "output_type": "stream",
     "text": [
      "0.962865431402796\n",
      "0.9628654314027963\n"
     ]
    }
   ],
   "source": [
    "print(correlation(\n",
    "    x_data = df.p_length, \n",
    "    y_data = df.p_width)\n",
    ")\n",
    "print(scipy.stats.pearsonr(df.p_length, df.p_width)[0])"
   ]
  },
  {
   "cell_type": "markdown",
   "id": "d388a56e",
   "metadata": {},
   "source": [
    "Now that we've sufficiently re-invented the wheel - we can move on..\n",
    "\n",
    "From this r coef of 0.963, we see that petal width and petal length have a pretty **strong positive correlation** to each other.\n",
    "\n",
    "# Least Squares Regression Line Equation\n",
    "\n",
    "$\\Large \\hat{y} = b_0 + b_1x$\n",
    "\n",
    "*where*\n",
    "\n",
    "$\\Large b_1 = r\\frac{s_y}{s_x} $\n",
    "\n",
    "*and*\n",
    "\n",
    "$\\Large b_0 = \\overline{y} - b_1\\overline{x} $"
   ]
  },
  {
   "cell_type": "code",
   "execution_count": 6,
   "id": "98ee0919",
   "metadata": {},
   "outputs": [],
   "source": [
    "class LeastSquaresLine:\n",
    "    \"\"\"Object for least squares return\"\"\"\n",
    "    def __init__(self):\n",
    "        self.intercept = None\n",
    "        self.slope = None\n",
    "    \n",
    "    def __repr__(self):\n",
    "        sign = \"+\" if self.intercept > 0 else \"\"\n",
    "        return f\"y={round(self.slope,3)}x{sign}{round(self.intercept,3)}\""
   ]
  },
  {
   "cell_type": "markdown",
   "id": "57e5e9b5",
   "metadata": {},
   "source": [
    "Now that we have a nice compact, printable object. We can create our function that uses the formula above to calculate the equation for the line."
   ]
  },
  {
   "cell_type": "code",
   "execution_count": 7,
   "id": "4729a9bf",
   "metadata": {},
   "outputs": [],
   "source": [
    "def least_sqaures(x_data: list, y_data: list) -> LeastSquaresLine:\n",
    "    # Calculate slope & intercept\n",
    "    lsl = LeastSquaresLine()\n",
    "    lsl.slope = correlation(x_data, y_data)*(dev(y_data)/dev(x_data))\n",
    "    lsl.intercept = mean(y_data) - lsl.slope*mean(x_data)\n",
    "    return lsl\n",
    "    "
   ]
  },
  {
   "cell_type": "markdown",
   "id": "0d6ad029",
   "metadata": {},
   "source": [
    "Lets call our function to get the values and the regression line."
   ]
  },
  {
   "cell_type": "code",
   "execution_count": 8,
   "id": "ee78bff5",
   "metadata": {},
   "outputs": [],
   "source": [
    "lsl = least_sqaures(df.p_length, df.p_width)"
   ]
  },
  {
   "cell_type": "markdown",
   "id": "ae238925",
   "metadata": {},
   "source": [
    "And now plot our values and line to see how we did"
   ]
  },
  {
   "cell_type": "code",
   "execution_count": 9,
   "id": "b3479beb",
   "metadata": {},
   "outputs": [
    {
     "data": {
      "text/plain": [
       "<matplotlib.legend.Legend at 0x227dfa0e0a0>"
      ]
     },
     "execution_count": 9,
     "metadata": {},
     "output_type": "execute_result"
    },
    {
     "data": {
      "image/png": "[encoded data removed]",
      "text/plain": [
       "<Figure size 432x288 with 1 Axes>"
      ]
     },
     "metadata": {
      "needs_background": "light"
     },
     "output_type": "display_data"
    }
   ],
   "source": [
    "df.plot(x=\"p_length\", y=\"p_width\", kind=\"scatter\",\n",
    "       title=\"Petal Length v Petal Width\")\n",
    "plt.pyplot.plot(\n",
    "    df.p_length, lsl.slope*df.p_length+lsl.intercept,\n",
    "    color=\"red\", label=lsl  # Label is the repr of the return\n",
    ")\n",
    "plt.pyplot.legend()"
   ]
  },
  {
   "cell_type": "markdown",
   "id": "0209ba18",
   "metadata": {},
   "source": [
    "The least-squares line we created here from the formulas looks pretty accurate. "
   ]
  },
  {
   "cell_type": "markdown",
   "id": "b81d8001",
   "metadata": {},
   "source": [
    "For now this is where we will end. Keeping in mind that using libraries for this is much more practical, less time consuming, and just overall makes more sense. For review of formulas and concepts and even just general programming practice however, your own implementations can have benefit."
   ]
  }
 ],
 "metadata": {
  "kernelspec": {
   "display_name": "Python 3 (ipykernel)",
   "language": "python",
   "name": "python3"
  },
  "language_info": {
   "codemirror_mode": {
    "name": "ipython",
    "version": 3
   },
   "file_extension": ".py",
   "mimetype": "text/x-python",
   "name": "python",
   "nbconvert_exporter": "python",
   "pygments_lexer": "ipython3",
   "version": "3.9.7"
  }
 },
 "nbformat": 4,
 "nbformat_minor": 5
}
